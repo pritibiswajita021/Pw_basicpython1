{
  "nbformat": 4,
  "nbformat_minor": 0,
  "metadata": {
    "colab": {
      "provenance": []
    },
    "kernelspec": {
      "name": "python3",
      "display_name": "Python 3"
    },
    "language_info": {
      "name": "python"
    }
  },
  "cells": [
    {
      "cell_type": "markdown",
      "source": [
        "** 1.What is Python, and why is it popular?\n",
        "**\n",
        "* Python is a general purposed dynamically typed high level language developed by Judio Vah Rossum in the year of 1991 at CWT in Netherland.\n",
        "* it is popular due to its features like\n",
        "\n",
        "  1. simple & easy to learn\n",
        "  2. Freeware & open source\n",
        "  3. platform independent\n",
        "  4. Rich Library\n",
        "  5. portable\n",
        "  6. embedded (other language is embedded with python)\n",
        "  7. Extensive\n",
        "  8. Interpreted(line by line interpreated)\n",
        "\n",
        "*  Python is Widely used in the industry & applications like\n",
        "\n",
        "  1. Web development\n",
        "  2. AI\n",
        "  3. Database Programming\n",
        "  4. IOT\n",
        "  5. Network Programming\n",
        "  6. Game Devlopment\n",
        "  7. MLE\n",
        "\n",
        "So Python is Popular\n",
        "\n",
        "\n",
        "\n",
        "---\n",
        "** 2. What is an interpreter in Python?\n",
        "**\n",
        "\n",
        "*   In Python, an interpreter is a program that reads and executes Python code line by line\n",
        "*   Python interpreter is written in C programming language, Python interpreter called \"CPython\".\n",
        "*   The interpreter reads one line of Python code, converts it to bytecode, and then executes it.\n",
        "*   This line-by-line execution provides immediate feedback to the programmer, allowing them to see the results of their code as they write it.\n",
        "\n",
        "\n",
        "---\n",
        "** 3.What are pre-defined keywords in Python?\n",
        "**\n",
        "\n",
        "\n",
        "*   Pre-defined keywords are the reserved words whose meaning already defined in python interpretor.\n",
        "*   We can't use keyword as a variable namee,method name,identifier.\n",
        "*   It is case sensitive.\n",
        "*   Example-- as,break,continue,def etc.\n",
        "\n",
        "\n",
        "---\n",
        "\n",
        "** 4.Can keywords be used as variable names?\n",
        "**\n",
        "\n",
        "\n",
        "\n",
        "\n",
        "*   No,keywords can't be used as variable names.\n",
        "* Because,using keyword as variable will make the interpreter confused.\n",
        "\n",
        "\n",
        "\n",
        "\n",
        "---\n",
        "** 5.What is mutability in Python?\n",
        "**\n",
        "\n",
        "\n",
        "*   In Python, mutability refers to whether an object's value can be changed after it is created. Mutable objects can be modified in place, while immutable objects cannot.\n",
        "*   Examples: Lists, dictionaries, and sets are mutable.\n",
        "\n",
        "---\n",
        "\n",
        "** 6.Why are lists mutable, but tuples are immutable?\n",
        "**\n",
        "\n",
        "\n",
        "*   Lists are mutable because they are designed to store collections of items that might need to change — such as adding, removing, or updating elements.\n",
        "Python operations can be performed in Lists.\n",
        "\n",
        "*   Tuples are immutable because they are intended to represent fixed collections of items — like records or constants — where changes are not expected or desired.\n",
        "Delete,insert,append can't be performed in tupple.\n",
        "\n",
        "\n",
        "---\n",
        "\n",
        "** 7.What is the difference between “==” and “is” operators in Python\n",
        "**\n",
        "\n",
        "\n",
        "*   (==)\n",
        "== operator checks if the values of  objects are equal or not.\n",
        "*   (is)\n",
        "is operator checks wheather 2 variable refers to the object in same memory.\n",
        "\n",
        "\n",
        "\n",
        "\n",
        "\n",
        "---\n",
        "\n",
        "** 8.What are logical operators in Python\n",
        "**\n",
        "\n",
        "\n",
        "*   Logical operators in Python are used to combine or modify boolean expressions (True or False).\n",
        "*   there are 3 types of logical operators in python\n",
        "\n",
        "\n",
        "  1.   And\n",
        "  2.   Or\n",
        "  3. Not\n",
        "\n",
        "---\n",
        "** 9.What is type casting in Python?\n",
        "**\n",
        "\n",
        "\n",
        "*   Type casting is used to change the data type of a variable,also known as type conversion.\n",
        "it is of 2 type  implicit and explicit\n",
        "*   example-- a=10.4\n",
        " print(int(10.4))\n",
        " o/p-- 10\n",
        "\n",
        "\n",
        "\n",
        "\n",
        "---\n",
        "**10. What is the difference between implicit and explicit type casting?\n",
        "**\n",
        "\n",
        "\n",
        "*   (implicit type casting)\n",
        "Done automatically by Python without using explicit code from the programmer\n",
        "\n",
        "    \n",
        "*   example-- a=5\n",
        "b=2.5\n",
        "print(a+b)\n",
        "o/p-7.5 #done automatically\n",
        "*  (explicit type casting)\n",
        "Done manually by the programmer\n",
        "\n",
        "* Example-- a=\"5\"\n",
        "print(int(a)+5)\n",
        "o/p--10 #convert the string type to iteger type explicitly\n",
        "\n",
        "\n",
        "\n",
        "\n",
        "\n",
        "---\n",
        "\n",
        "**11. What is the purpose of conditional statements in Python?\n",
        "**\n",
        "\n",
        "\n",
        "*   Conditional statement is used to control the flow of the program code\n",
        "*   Conditional statements in Python are used to make decisions in your code based on certain conditions.\n",
        "* the conditional statements are if,el-if,nested if-else.\n",
        "\n",
        "---\n",
        "** 12.How does the elif statement work?\n",
        "**\n",
        "\n",
        "\n",
        " * if condition1:\n",
        "         statement1\n",
        " * elif condition2:\n",
        "         statement2\n",
        "* else condition3:\n",
        "         statement3\n",
        "if the condition1 is true then statement1 will be executed if false then it will checek the condition2 if it is true then statement2 will be executed or if false then it will check the statement3.\n",
        "\n",
        "\n",
        "*   The elif statement is used to check multiple conditions, one after another.\n",
        "\n",
        "\n",
        "---\n",
        "** 13.What is the difference between for and while loops?\n",
        "**\n",
        "\n",
        "\n",
        "*   In For loop there are fixed number of iterations. In for loop the range is given.\n",
        "*   In while loop the code runs until a conditionds becomes false.\n",
        "\n",
        "\n",
        "\n",
        "\n",
        "\n",
        "---\n",
        "**14. Describe a scenario where a while loop is more suitable than a for loop.\n",
        "**\n",
        "\n",
        "\n",
        "* In the case of user input validation while loop is better than for loop.\n",
        "*   \n",
        "correct_password = \"jupyter123\"\n",
        "   * user_input = \"\"\n",
        "\n",
        "  * while user_input != correct_password:\n",
        "      * user_input = input(\"Enter your password: \")\n",
        "\n",
        " * print(\"successful\")\n",
        "* In this scenario we don't know that how many attempts are going to be applied by the user.So it is better to use while loop instead of for loop\n",
        "\n",
        "\n",
        "\n",
        "\n",
        "\n",
        "\n",
        "\n",
        "\n",
        "\n",
        "\n",
        "\n",
        "\n",
        "\n",
        "\n",
        "\n",
        "\n",
        "\n",
        "\n",
        "\n",
        "\n",
        "\n",
        "\n",
        "\n",
        "\n",
        "\n",
        "\n",
        "\n",
        "   \n",
        "\n",
        "\n",
        "\n",
        "\n",
        "  \n",
        "\n"
      ],
      "metadata": {
        "id": "dB8zVFOOVPf_"
      }
    },
    {
      "cell_type": "markdown",
      "source": [
        "# Practical Questions"
      ],
      "metadata": {
        "id": "VwQfAkjvnQW4"
      }
    },
    {
      "cell_type": "code",
      "source": [
        "#1. Write a Python program to print \"Hello, World!\"\n",
        "print(\"Hello, World!\")"
      ],
      "metadata": {
        "colab": {
          "base_uri": "https://localhost:8080/"
        },
        "id": "tWlkdHlPnGF-",
        "outputId": "412e91b7-9507-4db9-9721-81b3e88056f8"
      },
      "execution_count": null,
      "outputs": [
        {
          "output_type": "stream",
          "name": "stdout",
          "text": [
            "Hello, World!\n"
          ]
        }
      ]
    },
    {
      "cell_type": "code",
      "source": [
        "#2. Write a Python program that displays your name and age.\n",
        "name=input(\"enter your name: \")\n",
        "age=input(\"enter your age: \")\n",
        "print(\"I am\",name)\n",
        "print(\"I am\",age,\"years old\")"
      ],
      "metadata": {
        "colab": {
          "base_uri": "https://localhost:8080/"
        },
        "id": "2sjVy5t3n3u-",
        "outputId": "6fde41d8-47ff-4408-dae4-624013adcaec"
      },
      "execution_count": null,
      "outputs": [
        {
          "output_type": "stream",
          "name": "stdout",
          "text": [
            "enter your name: Priti\n",
            "enter your age: 20\n",
            "I am Priti\n",
            "I am 20 years old\n"
          ]
        }
      ]
    },
    {
      "cell_type": "code",
      "source": [
        "#3. Write code to print all the pre-defined keywords in Python using the keyword library\n",
        "import keyword\n",
        "keyword.kwlist"
      ],
      "metadata": {
        "colab": {
          "base_uri": "https://localhost:8080/"
        },
        "id": "cS2_OdjRoW6A",
        "outputId": "0fded3bf-92cc-411d-b2fc-96d447dea4e5"
      },
      "execution_count": null,
      "outputs": [
        {
          "output_type": "execute_result",
          "data": {
            "text/plain": [
              "['False',\n",
              " 'None',\n",
              " 'True',\n",
              " 'and',\n",
              " 'as',\n",
              " 'assert',\n",
              " 'async',\n",
              " 'await',\n",
              " 'break',\n",
              " 'class',\n",
              " 'continue',\n",
              " 'def',\n",
              " 'del',\n",
              " 'elif',\n",
              " 'else',\n",
              " 'except',\n",
              " 'finally',\n",
              " 'for',\n",
              " 'from',\n",
              " 'global',\n",
              " 'if',\n",
              " 'import',\n",
              " 'in',\n",
              " 'is',\n",
              " 'lambda',\n",
              " 'nonlocal',\n",
              " 'not',\n",
              " 'or',\n",
              " 'pass',\n",
              " 'raise',\n",
              " 'return',\n",
              " 'try',\n",
              " 'while',\n",
              " 'with',\n",
              " 'yield']"
            ]
          },
          "metadata": {},
          "execution_count": 7
        }
      ]
    },
    {
      "cell_type": "code",
      "source": [
        "# 4.Write a program that checks if a given word is a Python keyword.\n",
        "import keyword\n",
        "word = input(\"Enter a word: \")\n",
        "if keyword.iskeyword(word):\n",
        "    print(f\"'{word}' is a keyword.\")\n",
        "else:\n",
        "    print(f\"'{word}' is not a keyword.\")\n"
      ],
      "metadata": {
        "colab": {
          "base_uri": "https://localhost:8080/"
        },
        "id": "yFvrKA7upQ6q",
        "outputId": "9a26b288-b917-462c-fd4c-fc3570b592cc"
      },
      "execution_count": null,
      "outputs": [
        {
          "output_type": "stream",
          "name": "stdout",
          "text": [
            "Enter a word: else\n",
            "'else' is a keyword.\n"
          ]
        }
      ]
    },
    {
      "cell_type": "code",
      "source": [
        "# 5. Create a list and tuple in Python, and demonstrate how attempting to change an element works differently for each.\n",
        " #list\n",
        "a=[1,5,\"list\",3.4]\n",
        " #tuple\n",
        "b=(4,2,\"tuple\",6.7)\n",
        " #replacement can be performed in list\n",
        "a[2]=\"jupyter\"\n",
        "print(a)\n",
        " # replacement can't be performed in tuple\n",
        "try:\n",
        "  b[2]=\"notebook\"\n",
        "  print(b)\n",
        "except:\n",
        "  print( \"tuple is immutable\")"
      ],
      "metadata": {
        "colab": {
          "base_uri": "https://localhost:8080/"
        },
        "id": "E40vV3mVpzpD",
        "outputId": "b4715c36-7812-44f9-cf9f-911fa1174b89"
      },
      "execution_count": 5,
      "outputs": [
        {
          "output_type": "stream",
          "name": "stdout",
          "text": [
            "[1, 5, 'jupyter', 3.4]\n",
            "tuple is immutable\n"
          ]
        }
      ]
    },
    {
      "cell_type": "code",
      "source": [
        "# 6. Write a function to demonstrate the behavior of mutable and immutable arguments.\n",
        "def func(num, my_list):\n",
        "    num += 1\n",
        "    my_list.append(100)\n",
        "a=10\n",
        "b=[1, 2, 3]\n",
        "func(a, b)\n",
        "print(\"Value of a (immutable):\", a)\n",
        "print(\"Value of b (mutable):\", b)"
      ],
      "metadata": {
        "id": "aG2yha0MvR6o",
        "colab": {
          "base_uri": "https://localhost:8080/"
        },
        "outputId": "8c440a0c-e807-4dca-c036-740f02878b00"
      },
      "execution_count": 23,
      "outputs": [
        {
          "output_type": "stream",
          "name": "stdout",
          "text": [
            "Value of a (immutable): 10\n",
            "Value of b (mutable): [1, 2, 3, 100]\n"
          ]
        }
      ]
    },
    {
      "cell_type": "code",
      "source": [
        "# 7. Write a program that performs basic arithmetic operations on two user-input numbers.\n",
        "a=eval(input(\"enter the value of a= \"))\n",
        "b=eval(input(\"enter the value of b= \"))\n",
        "try:\n",
        "  a!=str and b!=str\n",
        "  print(f\"{a}+{b}=\",a+b)\n",
        "  print(f\"{a}-{b}=\",a-b)\n",
        "  print(f\"{a}*{b}=\",a*b)\n",
        "  if b!=0:\n",
        "    print(f\"{a}/{b}=\",a/b)\n",
        "  else:\n",
        "    print(\"error\")\n",
        "except:\n",
        "  print(\"can't accept string\")\n",
        "\n",
        "\n"
      ],
      "metadata": {
        "colab": {
          "base_uri": "https://localhost:8080/"
        },
        "id": "rNOOq5LHKVbf",
        "outputId": "3b2ddee6-b8cb-45b2-f99f-52d4e6cf7b1c"
      },
      "execution_count": 7,
      "outputs": [
        {
          "output_type": "stream",
          "name": "stdout",
          "text": [
            "enter the value of a= \"p\"\n",
            "enter the value of b= 2\n",
            "can't accept string\n"
          ]
        }
      ]
    },
    {
      "cell_type": "code",
      "source": [
        "# 8. Write a program to demonstrate the use of logical operators.\n",
        "a=int(input(\"a= \"))\n",
        "b=int(input(\"b= \"))\n",
        "print(f\"{a>0} and {b>0} is\",a and b)\n",
        "print(f\"{a>0} or {b>0} is\",a or b)\n",
        "print(f\" not {a>0} is\",not a)\n",
        "print(f\" not {b>0} is\",not b)\n"
      ],
      "metadata": {
        "colab": {
          "base_uri": "https://localhost:8080/"
        },
        "id": "KGaOatKDLk40",
        "outputId": "b9c968ec-6524-4d57-98d3-d8110b230eb1"
      },
      "execution_count": 8,
      "outputs": [
        {
          "output_type": "stream",
          "name": "stdout",
          "text": [
            "a= 1\n",
            "b= 2\n",
            "True and True is 2\n",
            "True or True is 1\n",
            " not True is False\n",
            " not True is False\n"
          ]
        }
      ]
    },
    {
      "cell_type": "code",
      "source": [
        "# 9. Write a Python program to convert user input from string to integer, float, and boolean types.\n",
        "value=input('enter a value: ')\n",
        "try:\n",
        "  print(int(value))\n",
        "except:\n",
        "  print(\"error\")\n",
        "try:\n",
        "  print(float(value))\n",
        "except:\n",
        "  print(\"error\")\n",
        "try:\n",
        "  print(bool(value))\n",
        "except:\n",
        "  print(\"error\")\n",
        "#string value can't be converted into int,float\n"
      ],
      "metadata": {
        "colab": {
          "base_uri": "https://localhost:8080/"
        },
        "id": "5lDPNzDsWE4a",
        "outputId": "29ebd90a-a20f-4975-88f8-9b6e7af4eaa6"
      },
      "execution_count": 9,
      "outputs": [
        {
          "output_type": "stream",
          "name": "stdout",
          "text": [
            "enter a value: \"hello\"\n",
            "error\n",
            "error\n",
            "True\n"
          ]
        }
      ]
    },
    {
      "cell_type": "code",
      "source": [
        "# 10. Write code to demonstrate type casting with list elements.\n",
        "a=[10,60.2,\"jupyter\",True]\n",
        "#try:\n",
        "print(\"str_a=\",str(a))\n",
        "print(\"bool_a=\",bool(a))\n",
        "try:\n",
        "  print(\"int_a=\",int(a))\n",
        "  print(\"float_a=\",float(a))\n",
        "except:\n",
        "  print(\"'jupyter' is string type so it can't be converted into int,float\")\n"
      ],
      "metadata": {
        "colab": {
          "base_uri": "https://localhost:8080/"
        },
        "id": "fP2dCSk2fi-q",
        "outputId": "68297a02-37ca-4aeb-f0b7-76de026ed7ac"
      },
      "execution_count": 10,
      "outputs": [
        {
          "output_type": "stream",
          "name": "stdout",
          "text": [
            "str_a= [10, 60.2, 'jupyter', True]\n",
            "bool_a= True\n",
            "'jupyter' is string type so it can't be converted into int,float\n"
          ]
        }
      ]
    },
    {
      "cell_type": "code",
      "source": [
        "# 11. Write a program that checks if a number is positive, negative, or zero.\n",
        "a=int(input(\"enter a number: \"))\n",
        "if a>0:\n",
        "  print(f\"{a} is positive\")\n",
        "elif a<0:\n",
        "  print(f\"{a} is negative\")\n",
        "else:\n",
        "  print(f\"{a} is zero\")"
      ],
      "metadata": {
        "id": "nTio1xVjgyzY",
        "colab": {
          "base_uri": "https://localhost:8080/"
        },
        "outputId": "ce592465-d4e1-4669-d6a0-b7ad628803c4"
      },
      "execution_count": null,
      "outputs": [
        {
          "output_type": "stream",
          "name": "stdout",
          "text": [
            "enter a number: -5\n",
            "-5 is negative\n"
          ]
        }
      ]
    },
    {
      "cell_type": "code",
      "source": [
        "# 12. Write a for loop to print numbers from 1 to 10.\n",
        "for i in range( 1,11):\n",
        "  print(i)"
      ],
      "metadata": {
        "colab": {
          "base_uri": "https://localhost:8080/"
        },
        "id": "I3_mXC4JmHI2",
        "outputId": "21f36e76-d097-453b-cd38-f64153286b8e"
      },
      "execution_count": null,
      "outputs": [
        {
          "output_type": "stream",
          "name": "stdout",
          "text": [
            "1\n",
            "2\n",
            "3\n",
            "4\n",
            "5\n",
            "6\n",
            "7\n",
            "8\n",
            "9\n",
            "10\n"
          ]
        }
      ]
    },
    {
      "cell_type": "code",
      "source": [
        "# 13. Write a Python program to find the sum of all even numbers between 1 and 50.\n",
        "sum=0\n",
        "for i in range(1,51,1):\n",
        "  if i%2==0:\n",
        "    sum=sum+i\n",
        "print(sum)"
      ],
      "metadata": {
        "colab": {
          "base_uri": "https://localhost:8080/"
        },
        "id": "UPR22J4lmcDQ",
        "outputId": "818426f7-60af-4880-9772-82842174e903"
      },
      "execution_count": null,
      "outputs": [
        {
          "output_type": "stream",
          "name": "stdout",
          "text": [
            "650\n"
          ]
        }
      ]
    },
    {
      "cell_type": "code",
      "source": [
        "# 14. Write a program to reverse a string using a while loop.\n",
        "a=input(\"enter a string: \")\n",
        "i=len(a)-1\n",
        "while i>=0:\n",
        "  print(a[i],end=\"\" )\n",
        "  i=i-1"
      ],
      "metadata": {
        "colab": {
          "base_uri": "https://localhost:8080/"
        },
        "id": "l3o3UHg6m30m",
        "outputId": "9fd4bebf-1bcf-4282-d3c5-6188deafc03b"
      },
      "execution_count": null,
      "outputs": [
        {
          "output_type": "stream",
          "name": "stdout",
          "text": [
            "enter a string: olu\n",
            "ulo"
          ]
        }
      ]
    },
    {
      "cell_type": "code",
      "source": [
        "# 15. Write a Python program to calculate the factorial of a number provided by the user using a while loop.\n",
        "a=int(input(\"Enter a number to find its factorial: \"))\n",
        "fact=1\n",
        "i=1\n",
        "if a < 0:\n",
        "    print(\"Factorial is not defined for negative numbers.\")\n",
        "else:\n",
        "    while i <= a:\n",
        "        fact *= i\n",
        "        i += 1\n",
        "    print(f\"The factorial of {a} is {fact}\")\n",
        "\n"
      ],
      "metadata": {
        "colab": {
          "base_uri": "https://localhost:8080/"
        },
        "id": "AqkC7h76pRPY",
        "outputId": "b8f7fc6f-74a0-44a2-ca33-92cf968cef25"
      },
      "execution_count": null,
      "outputs": [
        {
          "output_type": "stream",
          "name": "stdout",
          "text": [
            "Enter a number to find its factorial: -5\n",
            "Factorial is not defined for negative numbers.\n"
          ]
        }
      ]
    },
    {
      "cell_type": "code",
      "source": [],
      "metadata": {
        "id": "5TegmXtMq9ry"
      },
      "execution_count": null,
      "outputs": []
    }
  ]
}